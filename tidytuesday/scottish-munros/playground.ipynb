{
 "cells": [
  {
   "cell_type": "code",
   "execution_count": null,
   "id": "19091a18",
   "metadata": {},
   "outputs": [],
   "source": [
    "import pydytuesday\n",
    "\n",
    "pydytuesday.get_date('2025-08-19')"
   ]
  }
 ],
 "metadata": {
  "kernelspec": {
   "display_name": "venv",
   "language": "python",
   "name": "python3"
  },
  "language_info": {
   "name": "python",
   "version": "3.12.5"
  }
 },
 "nbformat": 4,
 "nbformat_minor": 5
}
